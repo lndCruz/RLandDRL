{
 "cells": [
  {
   "cell_type": "code",
   "execution_count": 10,
   "metadata": {},
   "outputs": [
    {
     "name": "stdout",
     "output_type": "stream",
     "text": [
      "Extracting /tmp/data/train-images-idx3-ubyte.gz\n",
      "Extracting /tmp/data/train-labels-idx1-ubyte.gz\n",
      "Extracting /tmp/data/t10k-images-idx3-ubyte.gz\n",
      "Extracting /tmp/data/t10k-labels-idx1-ubyte.gz\n",
      "No of imagens in training set (55000, 784)\n",
      "No of labels in training set (55000, 10)\n",
      "No of images in test set (10000, 784)\n",
      "No of labels in test set (10000, 10)\n",
      "Epoch: 1 cost = 0.539\n",
      "Epoch: 2 cost = 0.291\n",
      "Epoch: 3 cost = 0.238\n",
      "Epoch: 4 cost = 0.197\n",
      "Epoch: 5 cost = 0.166\n",
      "Epoch: 6 cost = 0.143\n",
      "Epoch: 7 cost = 0.126\n",
      "Epoch: 8 cost = 0.113\n",
      "Epoch: 9 cost = 0.102\n",
      "Epoch: 10 cost = 0.092\n",
      "0.0\n"
     ]
    },
    {
     "data": {
      "image/png": "[encoded data removed]",
      "text/plain": [
       "<Figure size 432x288 with 1 Axes>"
      ]
     },
     "metadata": {
      "needs_background": "light"
     },
     "output_type": "display_data"
    }
   ],
   "source": [
    "import matplotlib.pyplot as plt\n",
    "import tensorflow as tf\n",
    "from tensorflow.examples.tutorials.mnist import input_data\n",
    "mnist = input_data.read_data_sets(\"/tmp/data/\", one_hot=True)\n",
    "\n",
    "#Lets see what we have in our data\n",
    "print(\"No of imagens in training set {}\".format(mnist.train.images.shape))\n",
    "print(\"No of labels in training set {}\".format(mnist.train.labels.shape))\n",
    "\n",
    "print(\"No of images in test set {}\".format(mnist.test.images.shape))\n",
    "print(\"No of labels in test set {}\".format(mnist.test.labels.shape))\n",
    "\n",
    "#Lets plotting an input image to see what is looks \n",
    "img1 = mnist.train.images[41].reshape(28,28)\n",
    "plt.imshow(img1, cmap='Greys')\n",
    "\n",
    "#Start Building our network\n",
    "x = tf.placeholder(tf.float32, [None, 784]) #data of input\n",
    "y = tf.placeholder(tf.float32, [None, 10]) #data of output\n",
    "\n",
    "#Initialize the hyperparameters\n",
    "learning_rate = 0.1 #alpha\n",
    "epochs = 10\n",
    "batch_size = 100\n",
    "\n",
    "#Defining weights and bias between input to the hidden layer\n",
    "w_xh = tf.Variable(tf.random_normal([784, 300], stddev=0.03), name='w_xh')\n",
    "b_h = tf.Variable(tf.random_normal([300]), name='b_h')\n",
    "\n",
    "#Defining weights and bias between hidden layer to the output layer\n",
    "w_hy = tf.Variable(tf.random_normal([300, 10], stddev=0.03), name='w_hy')\n",
    "b_y = tf.Variable(tf.random_normal([10]), name='b_y')\n",
    "\n",
    "#Forward propagation\n",
    "z1 = tf.add(tf.matmul(x, w_xh), b_h)\n",
    "a1 = tf.nn.relu(z1)\n",
    "z2 = tf.add(tf.matmul(a1, w_hy), b_y)\n",
    "yhat = tf.nn.softmax(z2)\n",
    "\n",
    "cross_entropy = tf.reduce_mean(-tf.reduce_sum(y * tf.log(yhat), reduction_indices=[1]))\n",
    "\n",
    "#Gradient Descent\n",
    "optimiser = tf.train.GradientDescentOptimizer(learning_rate=learning_rate).minimize(cross_entropy)\n",
    "\n",
    "#Calculing the accuracy\n",
    "correct_prediction = tf.equal(tf.argmax(x, 1), tf.argmax(yhat, 1))\n",
    "accuracy = tf.reduce_mean(tf.cast(correct_prediction, tf.float32))\n",
    "\n",
    "#Initialize the tensorflow variables\n",
    "init_op = tf.global_variables_initializer()\n",
    "\n",
    "with tf.Session() as sess:\n",
    "    sess.run(init_op)\n",
    "    total_batch = int(len(mnist.train.labels) / batch_size)\n",
    "    for epoch in range(epochs):\n",
    "        avg_cost = 0\n",
    "        for i in range(total_batch):\n",
    "            batch_x, batch_y = mnist.train.next_batch(batch_size=batch_size)\n",
    "            \n",
    "            _, c = sess.run([optimiser, cross_entropy], feed_dict={x: batch_x, y: batch_y})\n",
    "            \n",
    "            avg_cost += c / total_batch\n",
    "        \n",
    "        print(\"Epoch:\", (epoch + 1), \"cost = \"\"{:.3f}\".format(avg_cost))\n",
    "    print(sess.run(accuracy, feed_dict={x: mnist.test.images, y: mnist.test.labels}))\n",
    "    \n",
    "\n"
   ]
  },
  {
   "cell_type": "code",
   "execution_count": null,
   "metadata": {},
   "outputs": [],
   "source": []
  },
  {
   "cell_type": "code",
   "execution_count": null,
   "metadata": {},
   "outputs": [],
   "source": []
  },
  {
   "cell_type": "code",
   "execution_count": null,
   "metadata": {},
   "outputs": [],
   "source": []
  }
 ],
 "metadata": {
  "kernelspec": {
   "display_name": "Python 3",
   "language": "python",
   "name": "python3"
  },
  "language_info": {
   "codemirror_mode": {
    "name": "ipython",
    "version": 3
   },
   "file_extension": ".py",
   "mimetype": "text/x-python",
   "name": "python",
   "nbconvert_exporter": "python",
   "pygments_lexer": "ipython3",
   "version": "3.6.9"
  }
 },
 "nbformat": 4,
 "nbformat_minor": 2
}
